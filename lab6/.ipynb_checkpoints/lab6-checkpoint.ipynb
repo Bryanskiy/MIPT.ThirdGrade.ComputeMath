{
 "cells": [
  {
   "cell_type": "markdown",
   "id": "53d1c63e",
   "metadata": {},
   "source": [
    "#  Лабораторная работа №8.11\n",
    "#  Ивакин Кирилл.  Вариант 2. \n",
    "#  --------------------------------------------------------\n",
    "##                                             Условие"
   ]
  },
  {
   "cell_type": "markdown",
   "id": "0aec3b2f",
   "metadata": {},
   "source": [
    "![task.png](task.png)"
   ]
  },
  {
   "cell_type": "markdown",
   "id": "81ff38d3",
   "metadata": {},
   "source": [
    "# Результаты"
   ]
  },
  {
   "cell_type": "code",
   "execution_count": 18,
   "id": "23a926da",
   "metadata": {},
   "outputs": [
    {
     "ename": "TypeError",
     "evalue": "can only concatenate str (not \"float\") to str",
     "output_type": "error",
     "traceback": [
      "\u001b[0;31m---------------------------------------------------------------------------\u001b[0m",
      "\u001b[0;31mTypeError\u001b[0m                                 Traceback (most recent call last)",
      "\u001b[0;32m/tmp/ipykernel_16672/3569052751.py\u001b[0m in \u001b[0;36m<module>\u001b[0;34m\u001b[0m\n\u001b[0;32m----> 1\u001b[0;31m \u001b[0mplotResults\u001b[0m\u001b[0;34m(\u001b[0m\u001b[0;36m0.01\u001b[0m\u001b[0;34m)\u001b[0m\u001b[0;34m\u001b[0m\u001b[0;34m\u001b[0m\u001b[0m\n\u001b[0m",
      "\u001b[0;32m/tmp/ipykernel_16672/1020432252.py\u001b[0m in \u001b[0;36mplotResults\u001b[0;34m(e)\u001b[0m\n\u001b[1;32m      1\u001b[0m \u001b[0;32mdef\u001b[0m \u001b[0mplotResults\u001b[0m\u001b[0;34m(\u001b[0m\u001b[0me\u001b[0m\u001b[0;34m)\u001b[0m\u001b[0;34m:\u001b[0m\u001b[0;34m\u001b[0m\u001b[0;34m\u001b[0m\u001b[0m\n\u001b[1;32m      2\u001b[0m     \u001b[0my\u001b[0m\u001b[0;34m,\u001b[0m \u001b[0mz\u001b[0m \u001b[0;34m=\u001b[0m \u001b[0mRungeKutta1\u001b[0m\u001b[0;34m(\u001b[0m\u001b[0;36m0.001\u001b[0m\u001b[0;34m,\u001b[0m \u001b[0me\u001b[0m\u001b[0;34m,\u001b[0m \u001b[0;36m100\u001b[0m\u001b[0;34m)\u001b[0m\u001b[0;34m\u001b[0m\u001b[0;34m\u001b[0m\u001b[0m\n\u001b[0;32m----> 3\u001b[0;31m     \u001b[0mplot\u001b[0m\u001b[0;34m(\u001b[0m\u001b[0my\u001b[0m\u001b[0;34m,\u001b[0m \u001b[0mz\u001b[0m\u001b[0;34m,\u001b[0m \u001b[0;34m\"Метод Рунге-Кутты 1 порядка, $e = $\"\u001b[0m \u001b[0;34m+\u001b[0m \u001b[0me\u001b[0m\u001b[0;34m)\u001b[0m\u001b[0;34m\u001b[0m\u001b[0;34m\u001b[0m\u001b[0m\n\u001b[0m\u001b[1;32m      4\u001b[0m \u001b[0;34m\u001b[0m\u001b[0m\n\u001b[1;32m      5\u001b[0m     \u001b[0my\u001b[0m\u001b[0;34m,\u001b[0m \u001b[0mz\u001b[0m \u001b[0;34m=\u001b[0m \u001b[0mRungeKutta2\u001b[0m\u001b[0;34m(\u001b[0m\u001b[0;36m0.001\u001b[0m\u001b[0;34m,\u001b[0m \u001b[0me\u001b[0m\u001b[0;34m,\u001b[0m \u001b[0;36m100\u001b[0m\u001b[0;34m)\u001b[0m\u001b[0;34m\u001b[0m\u001b[0;34m\u001b[0m\u001b[0m\n",
      "\u001b[0;31mTypeError\u001b[0m: can only concatenate str (not \"float\") to str"
     ]
    }
   ],
   "source": [
    "plotResults(0.01)"
   ]
  },
  {
   "cell_type": "code",
   "execution_count": 4,
   "id": "c7460bde",
   "metadata": {},
   "outputs": [
    {
     "ename": "NameError",
     "evalue": "name 'RungeKutta1' is not defined",
     "output_type": "error",
     "traceback": [
      "\u001b[0;31m---------------------------------------------------------------------------\u001b[0m",
      "\u001b[0;31mNameError\u001b[0m                                 Traceback (most recent call last)",
      "\u001b[0;32m/tmp/ipykernel_16672/4219494239.py\u001b[0m in \u001b[0;36m<module>\u001b[0;34m\u001b[0m\n\u001b[0;32m----> 1\u001b[0;31m \u001b[0mplotResults\u001b[0m\u001b[0;34m(\u001b[0m\u001b[0;36m1\u001b[0m\u001b[0;34m)\u001b[0m\u001b[0;34m\u001b[0m\u001b[0;34m\u001b[0m\u001b[0m\n\u001b[0m",
      "\u001b[0;32m/tmp/ipykernel_16672/1020432252.py\u001b[0m in \u001b[0;36mplotResults\u001b[0;34m(e)\u001b[0m\n\u001b[1;32m      1\u001b[0m \u001b[0;32mdef\u001b[0m \u001b[0mplotResults\u001b[0m\u001b[0;34m(\u001b[0m\u001b[0me\u001b[0m\u001b[0;34m)\u001b[0m\u001b[0;34m:\u001b[0m\u001b[0;34m\u001b[0m\u001b[0;34m\u001b[0m\u001b[0m\n\u001b[0;32m----> 2\u001b[0;31m     \u001b[0my\u001b[0m\u001b[0;34m,\u001b[0m \u001b[0mz\u001b[0m \u001b[0;34m=\u001b[0m \u001b[0mRungeKutta1\u001b[0m\u001b[0;34m(\u001b[0m\u001b[0;36m0.001\u001b[0m\u001b[0;34m,\u001b[0m \u001b[0me\u001b[0m\u001b[0;34m,\u001b[0m \u001b[0;36m100\u001b[0m\u001b[0;34m)\u001b[0m\u001b[0;34m\u001b[0m\u001b[0;34m\u001b[0m\u001b[0m\n\u001b[0m\u001b[1;32m      3\u001b[0m     \u001b[0mplot\u001b[0m\u001b[0;34m(\u001b[0m\u001b[0my\u001b[0m\u001b[0;34m,\u001b[0m \u001b[0mz\u001b[0m\u001b[0;34m,\u001b[0m \u001b[0;34m\"Метод Рунге-Кутты 1 порядка, $e = $\"\u001b[0m \u001b[0;34m+\u001b[0m \u001b[0me\u001b[0m\u001b[0;34m)\u001b[0m\u001b[0;34m\u001b[0m\u001b[0;34m\u001b[0m\u001b[0m\n\u001b[1;32m      4\u001b[0m \u001b[0;34m\u001b[0m\u001b[0m\n\u001b[1;32m      5\u001b[0m     \u001b[0my\u001b[0m\u001b[0;34m,\u001b[0m \u001b[0mz\u001b[0m \u001b[0;34m=\u001b[0m \u001b[0mRungeKutta2\u001b[0m\u001b[0;34m(\u001b[0m\u001b[0;36m0.001\u001b[0m\u001b[0;34m,\u001b[0m \u001b[0me\u001b[0m\u001b[0;34m,\u001b[0m \u001b[0;36m100\u001b[0m\u001b[0;34m)\u001b[0m\u001b[0;34m\u001b[0m\u001b[0;34m\u001b[0m\u001b[0m\n",
      "\u001b[0;31mNameError\u001b[0m: name 'RungeKutta1' is not defined"
     ]
    }
   ],
   "source": [
    "plotResults(1)"
   ]
  },
  {
   "cell_type": "code",
   "execution_count": 5,
   "id": "8198b5da",
   "metadata": {},
   "outputs": [
    {
     "ename": "NameError",
     "evalue": "name 'RungeKutta1' is not defined",
     "output_type": "error",
     "traceback": [
      "\u001b[0;31m---------------------------------------------------------------------------\u001b[0m",
      "\u001b[0;31mNameError\u001b[0m                                 Traceback (most recent call last)",
      "\u001b[0;32m/tmp/ipykernel_16672/2178241949.py\u001b[0m in \u001b[0;36m<module>\u001b[0;34m\u001b[0m\n\u001b[0;32m----> 1\u001b[0;31m \u001b[0mplotResults\u001b[0m\u001b[0;34m(\u001b[0m\u001b[0;36m10\u001b[0m\u001b[0;34m)\u001b[0m\u001b[0;34m\u001b[0m\u001b[0;34m\u001b[0m\u001b[0m\n\u001b[0m",
      "\u001b[0;32m/tmp/ipykernel_16672/1020432252.py\u001b[0m in \u001b[0;36mplotResults\u001b[0;34m(e)\u001b[0m\n\u001b[1;32m      1\u001b[0m \u001b[0;32mdef\u001b[0m \u001b[0mplotResults\u001b[0m\u001b[0;34m(\u001b[0m\u001b[0me\u001b[0m\u001b[0;34m)\u001b[0m\u001b[0;34m:\u001b[0m\u001b[0;34m\u001b[0m\u001b[0;34m\u001b[0m\u001b[0m\n\u001b[0;32m----> 2\u001b[0;31m     \u001b[0my\u001b[0m\u001b[0;34m,\u001b[0m \u001b[0mz\u001b[0m \u001b[0;34m=\u001b[0m \u001b[0mRungeKutta1\u001b[0m\u001b[0;34m(\u001b[0m\u001b[0;36m0.001\u001b[0m\u001b[0;34m,\u001b[0m \u001b[0me\u001b[0m\u001b[0;34m,\u001b[0m \u001b[0;36m100\u001b[0m\u001b[0;34m)\u001b[0m\u001b[0;34m\u001b[0m\u001b[0;34m\u001b[0m\u001b[0m\n\u001b[0m\u001b[1;32m      3\u001b[0m     \u001b[0mplot\u001b[0m\u001b[0;34m(\u001b[0m\u001b[0my\u001b[0m\u001b[0;34m,\u001b[0m \u001b[0mz\u001b[0m\u001b[0;34m,\u001b[0m \u001b[0;34m\"Метод Рунге-Кутты 1 порядка, $e = $\"\u001b[0m \u001b[0;34m+\u001b[0m \u001b[0me\u001b[0m\u001b[0;34m)\u001b[0m\u001b[0;34m\u001b[0m\u001b[0;34m\u001b[0m\u001b[0m\n\u001b[1;32m      4\u001b[0m \u001b[0;34m\u001b[0m\u001b[0m\n\u001b[1;32m      5\u001b[0m     \u001b[0my\u001b[0m\u001b[0;34m,\u001b[0m \u001b[0mz\u001b[0m \u001b[0;34m=\u001b[0m \u001b[0mRungeKutta2\u001b[0m\u001b[0;34m(\u001b[0m\u001b[0;36m0.001\u001b[0m\u001b[0;34m,\u001b[0m \u001b[0me\u001b[0m\u001b[0;34m,\u001b[0m \u001b[0;36m100\u001b[0m\u001b[0;34m)\u001b[0m\u001b[0;34m\u001b[0m\u001b[0;34m\u001b[0m\u001b[0m\n",
      "\u001b[0;31mNameError\u001b[0m: name 'RungeKutta1' is not defined"
     ]
    }
   ],
   "source": [
    "plotResults(10)"
   ]
  },
  {
   "cell_type": "markdown",
   "id": "6b095ffc",
   "metadata": {},
   "source": [
    "# Реализация"
   ]
  },
  {
   "cell_type": "code",
   "execution_count": 6,
   "id": "29101652",
   "metadata": {},
   "outputs": [],
   "source": [
    "import numpy as np\n",
    "import matplotlib.pyplot as plt"
   ]
  },
  {
   "cell_type": "code",
   "execution_count": 7,
   "id": "612652aa",
   "metadata": {},
   "outputs": [],
   "source": [
    "def VanDerPolSysem(z, y, e, TYPE = 1):\n",
    "    return z, e * (1 - y**2) * z - y"
   ]
  },
  {
   "cell_type": "code",
   "execution_count": 8,
   "id": "9f81ceae",
   "metadata": {},
   "outputs": [],
   "source": [
    "def InitialСonditions():\n",
    "    return 2, 0"
   ]
  },
  {
   "cell_type": "code",
   "execution_count": 9,
   "id": "ac53c15e",
   "metadata": {},
   "outputs": [],
   "source": [
    "def plot(y, z, description = \"\"):\n",
    "    plt.figure(figsize=[10, 4])\n",
    "    plt.title(description)\n",
    "    plt.plot(y, z, 'b', label='Фазовая траектория')\n",
    "    plt.grid()\n",
    "    plt.xlabel(\"$y(t)$\")\n",
    "    plt.ylabel(\"$z(t)$\")\n",
    "    plt.legend()\n",
    "    plt.tight_layout()\n",
    "    plt.show()"
   ]
  },
  {
   "cell_type": "markdown",
   "id": "5ddf2c47",
   "metadata": {},
   "source": [
    "### Метод Рунге-Кутты 1 порядка\n",
    "\n",
    "![rg1.jpg](rg1.jpg)"
   ]
  },
  {
   "cell_type": "code",
   "execution_count": 10,
   "id": "e909ac61",
   "metadata": {},
   "outputs": [],
   "source": [
    "def RungeKutta1(h, e, rhs):\n",
    "    elemsSize = int(rhs/h)\n",
    "    y = np.zeros(elemsSize)\n",
    "    z = np.zeros(elemsSize)\n",
    "    \n",
    "    y[0] = InitialСonditions()[0]\n",
    "    z[0] = InitialСonditions()[1]\n",
    "    \n",
    "    for t in range(0, elemsSize - 1):\n",
    "        z[t+1] = z[t] + h * VanDerPolSysem(z[t], y[t], e)[1]\n",
    "        y[t+1] = y[t] + h * VanDerPolSysem(z[t], y[t], e)[0]\n",
    "    return y, z"
   ]
  },
  {
   "cell_type": "markdown",
   "id": "4cde9956",
   "metadata": {},
   "source": [
    "###  Метод Рунге-Кутты 2 порядка\n",
    "\n",
    "![rg2.jpg](rg2.jpg)"
   ]
  },
  {
   "cell_type": "code",
   "execution_count": 11,
   "id": "16c03ada",
   "metadata": {},
   "outputs": [],
   "source": [
    "def RungeKutta2(h, e, rhs):\n",
    "    elemsSize = int(rhs/h)\n",
    "    y = np.zeros(elemsSize)\n",
    "    z = np.zeros(elemsSize)\n",
    "    \n",
    "    y[0] = InitialСonditions()[0]\n",
    "    z[0] = InitialСonditions()[1]\n",
    "    \n",
    "    for t in range(0, elemsSize - 1):\n",
    "        k1 = VanDerPolSysem(z[t], y[t], e)[0], VanDerPolSysem(z[t], y[t], e)[1]\n",
    "        k2 = VanDerPolSysem(z[t] + 0.5 * h * k1[0], y[t] + 0.5 * h, e)[0], VanDerPolSysem(z[t] + 0.5 * h * k1[1], y[t] + 0.5 * h, e)[1]\n",
    "    \n",
    "        y[t+1] = y[t] + h * (k2[0] * 0.5)\n",
    "        z[t+1] = z[t] + h * (k2[1] * 0.5)\n",
    "    return y, z"
   ]
  },
  {
   "cell_type": "markdown",
   "id": "a9c8e793",
   "metadata": {},
   "source": [
    "###  Метод Рунге-Кутты 3 порядка\n",
    "\n",
    "![rg3.jpg](rg3.jpg)"
   ]
  },
  {
   "cell_type": "code",
   "execution_count": 12,
   "id": "cb8522c7",
   "metadata": {},
   "outputs": [],
   "source": [
    "def RungeKutta3(h, e, rhs):\n",
    "    elemsSize = int(rhs/h)\n",
    "    y = np.zeros(elemsSize)\n",
    "    z = np.zeros(elemsSize)\n",
    "    \n",
    "    y[0] = InitialСonditions()[0]\n",
    "    z[0] = InitialСonditions()[1]\n",
    "    \n",
    "    for t in range(0, elemsSize - 1):\n",
    "        k1 = VanDerPolSysem(z[t], y[t], e)[0], VanDerPolSysem(z[t], y[t], e)[1]\n",
    "        k2 = VanDerPolSysem(z[t] +  h / 3. * k1[0], y[t] + h / 3.0, e)[0], VanDerPolSysem(z[t] +  h / 3. * k1[1], y[t] + h / 3.0, e)[1]\n",
    "        k3 = VanDerPolSysem(z[t] + 2 * h / 3. * k2[0], y[t] + 2 * h / 3.0, e)[0], VanDerPolSysem(z[t] + 2 * h / 3. * k2[1], y[t] + 2 * h / 3.0, e)[1]\n",
    "    \n",
    "        y[t+1] = y[t] + h / 4 * k1[0] + h * 3 / 4 * k3[0]\n",
    "        z[t+1] = z[t] + h / 4 * k1[1] + h * 3 / 4 * k3[1]\n",
    "    return y, z"
   ]
  },
  {
   "cell_type": "markdown",
   "id": "edeb9e83",
   "metadata": {},
   "source": [
    "###  Метод Рунге-Кутты 4 порядка\n",
    "\n",
    "![rg4.jpg](rg4.jpg)"
   ]
  },
  {
   "cell_type": "code",
   "execution_count": 13,
   "id": "8bf35976",
   "metadata": {},
   "outputs": [],
   "source": [
    "def RungeKutta4(h, e, rhs):\n",
    "    elemsSize = int(rhs/h)\n",
    "    y = np.zeros(elemsSize)\n",
    "    z = np.zeros(elemsSize)\n",
    "    \n",
    "    y[0] = InitialСonditions()[0]\n",
    "    z[0] = InitialСonditions()[1]\n",
    "    \n",
    "    for t in range(0, elemsSize - 1):\n",
    "        k1 = VanDerPolSysem(z[t], y[t], e)[0], VanDerPolSysem(z[t], y[t], e)[1]\n",
    "        k2 = VanDerPolSysem(z[t] +  h / 2. * k1[0], y[t] + h / 2.0, e)[0], VanDerPolSysem(z[t] +  h / 2. * k1[1], y[t] + h / 2.0, e)[1]\n",
    "        k3 = VanDerPolSysem(z[t] +  h / 2. * k2[0], y[t] + h / 2.0, e)[0], VanDerPolSysem(z[t] +  h / 2. * k2[1], y[t] + h / 2.0, e)[1]\n",
    "        k4 = VanDerPolSysem(z[t] +  h * k3[0], y[t] + h, e)[0], VanDerPolSysem(z[t] +  h * k3[1], y[t] + h, e)[1]\n",
    "\n",
    "        y[t+1] = y[t] + h * (4 * k1[0] / 6. + 2 * k2[0] / 6.0 + 2 / 6.0 * k3[0] + k4[0] / 6)\n",
    "        z[t+1] = z[t] + h * (4 * k1[1] / 6. + 2 * k2[1] / 6.0 + 2 / 6.0 * k3[1] + k4[1] / 6)\n",
    "    return y, z"
   ]
  },
  {
   "cell_type": "markdown",
   "id": "eac50f91",
   "metadata": {},
   "source": [
    "### Метод Адамса 2 - 4 порядок\n",
    "\n",
    "![adams.jpg](adams.jpg)"
   ]
  },
  {
   "cell_type": "code",
   "execution_count": 14,
   "id": "6435579d",
   "metadata": {},
   "outputs": [],
   "source": [
    "def Adams2(h, e, rhs):\n",
    "    elemsSize = int(rhs/h)\n",
    "    y = np.zeros(elemsSize)\n",
    "    z = np.zeros(elemsSize)\n",
    "    \n",
    "    y[0] = InitialСonditions()[0]\n",
    "    z[0] = InitialСonditions()[1]\n",
    "    y[1] = RungeKutta2(h, e, rhs)[0][1]\n",
    "    z[1] = RungeKutta2(h, e, rhs)[1][1]\n",
    "    \n",
    "    for t in range(1, elemsSize - 1):\n",
    "        y[t+1] = y[t] + h * (1.5 * VanDerPolSysem(z[t], y[t], e)[0] - 0.5 * VanDerPolSysem(z[t-1], y[t-1], e)[0])\n",
    "        z[t+1] = z[t] + h * (1.5 * VanDerPolSysem(z[t], y[t], e)[1] - 0.5 * VanDerPolSysem(z[t-1], y[t-1], e)[1])\n",
    "        \n",
    "    return y, z"
   ]
  },
  {
   "cell_type": "code",
   "execution_count": 15,
   "id": "8e940c11",
   "metadata": {},
   "outputs": [],
   "source": [
    "def Adams3(h, e, rhs):\n",
    "    elemsSize = int(rhs/h)\n",
    "    y = np.zeros(elemsSize)\n",
    "    z = np.zeros(elemsSize)\n",
    "    \n",
    "    y[0] = InitialСonditions()[0]\n",
    "    z[0] = InitialСonditions()[1]\n",
    "    y[1] = RungeKutta3(h, e, rhs)[0][1]\n",
    "    z[1] = RungeKutta3(h, e, rhs)[1][1]\n",
    "    y[2] = RungeKutta3(h, e, rhs)[0][2]\n",
    "    z[2] = RungeKutta3(h, e, rhs)[1][2]\n",
    "    \n",
    "    for t in range(2, elemsSize - 1):\n",
    "        y[t+1] = y[t] + h * (23.0 / 12 * VanDerPolSysem(z[t], y[t], e)[0] - 16.0 / 12 * VanDerPolSysem(z[t-1], y[t-1], e)[0] + 5.0 / 12 * VanDerPolSysem(z[t-2], y[t-2], e)[0])\n",
    "        z[t+1] = z[t] + h * (23.0 / 12 * VanDerPolSysem(z[t], y[t], e)[1] - 16.0 / 12 * VanDerPolSysem(z[t-1], y[t-1], e)[1] + 5.0 / 12 * VanDerPolSysem(z[t-2], y[t-2], e)[1])\n",
    "        \n",
    "    return y, z"
   ]
  },
  {
   "cell_type": "code",
   "execution_count": 16,
   "id": "ce6d5b38",
   "metadata": {},
   "outputs": [],
   "source": [
    "def Adams4(h, e, rhs):\n",
    "    elemsSize = int(rhs/h)\n",
    "    y = np.zeros(elemsSize)\n",
    "    z = np.zeros(elemsSize)\n",
    "    \n",
    "    y[0] = InitialСonditions()[0]\n",
    "    z[0] = InitialСonditions()[1]\n",
    "    y[1] = RungeKutta4(h, e, rhs)[0][1]\n",
    "    z[1] = RungeKutta4(h, e, rhs)[1][1]\n",
    "    y[2] = RungeKutta4(h, e, rhs)[0][2]\n",
    "    z[2] = RungeKutta4(h, e, rhs)[1][2]\n",
    "    y[3] = RungeKutta4(h, e, rhs)[0][3]\n",
    "    z[3] = RungeKutta4(h, e, rhs)[1][3]\n",
    "    \n",
    "    for t in range(3, elemsSize - 1):\n",
    "        y[t+1] = y[t] + h * (55.0 / 24 * VanDerPolSysem(z[t], y[t], e)[0] - 59.0 / 24 * VanDerPolSysem(z[t-1], y[t-1], e)[0] + 37.0 / 24.0 * VanDerPolSysem(z[t-2], y[t-2], e)[0] - 9.0 / 24 * VanDerPolSysem(z[t-3], y[t-3], e)[0])\n",
    "        z[t+1] = z[t] + h * (55.0 / 24 * VanDerPolSysem(z[t], y[t], e)[1] - 59.0 / 24 * VanDerPolSysem(z[t-1], y[t-1], e)[1] + 37.0 / 24.0 * VanDerPolSysem(z[t-2], y[t-2], e)[1] - 9.0 / 24 * VanDerPolSysem(z[t-3], y[t-3], e)[1])\n",
    "    return y, z"
   ]
  },
  {
   "cell_type": "code",
   "execution_count": 17,
   "id": "90bd78ff",
   "metadata": {},
   "outputs": [],
   "source": [
    "def plotResults(e):\n",
    "    y, z = RungeKutta1(0.001, e, 100)\n",
    "    plot(y, z, \"Метод Рунге-Кутты 1 порядка, $e = $\" + e)\n",
    "    \n",
    "    y, z = RungeKutta2(0.001, e, 100)\n",
    "    plot(y, z, \"Метод Рунге-Кутты 2 порядка, $e = $\" + e)\n",
    "    \n",
    "    y, z = RungeKutta3(0.001, e, 100)\n",
    "    plot(y, z, \"Метод Рунге-Кутты 3 порядка, $e = $\" + e)\n",
    "    \n",
    "    y, z = RungeKutta4(0.001, e, 100)\n",
    "    plot(y, z, \"Метод Рунге-Кутты 4 порядка,  $e = $\" + e)\n",
    "    \n",
    "    y, z = Adams2(0.001, e, 100)\n",
    "    plot(y, z, \"Метод Адамса 2 порядка,  $e = $\" + e)\n",
    "    \n",
    "    y, z = Adams3(0.001, e, 100)\n",
    "    plot(y, z, \"Метод Адамса 3 порядка,  $e = $\" + e)\n",
    "    \n",
    "    y, z = Adams3(0.001, e, 100)\n",
    "    plot(y, z, \"Метод Адамса 4 порядка,  $e = $\" + e)"
   ]
  },
  {
   "cell_type": "code",
   "execution_count": null,
   "id": "a03c1bd8",
   "metadata": {},
   "outputs": [],
   "source": []
  },
  {
   "cell_type": "code",
   "execution_count": null,
   "id": "fc10b006",
   "metadata": {},
   "outputs": [],
   "source": []
  },
  {
   "cell_type": "code",
   "execution_count": null,
   "id": "c2263a1e",
   "metadata": {},
   "outputs": [],
   "source": []
  },
  {
   "cell_type": "code",
   "execution_count": null,
   "id": "f53b213e",
   "metadata": {},
   "outputs": [],
   "source": []
  },
  {
   "cell_type": "code",
   "execution_count": null,
   "id": "b35ea8c7",
   "metadata": {},
   "outputs": [],
   "source": []
  },
  {
   "cell_type": "code",
   "execution_count": null,
   "id": "b04a3f0b",
   "metadata": {},
   "outputs": [],
   "source": []
  },
  {
   "cell_type": "code",
   "execution_count": null,
   "id": "0c3b6731",
   "metadata": {},
   "outputs": [],
   "source": []
  },
  {
   "cell_type": "code",
   "execution_count": null,
   "id": "3c928052",
   "metadata": {},
   "outputs": [],
   "source": []
  }
 ],
 "metadata": {
  "kernelspec": {
   "display_name": "Python 3 (ipykernel)",
   "language": "python",
   "name": "python3"
  },
  "language_info": {
   "codemirror_mode": {
    "name": "ipython",
    "version": 3
   },
   "file_extension": ".py",
   "mimetype": "text/x-python",
   "name": "python",
   "nbconvert_exporter": "python",
   "pygments_lexer": "ipython3",
   "version": "3.9.7"
  }
 },
 "nbformat": 4,
 "nbformat_minor": 5
}
